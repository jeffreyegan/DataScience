{
 "cells": [
  {
   "cell_type": "code",
   "execution_count": 1,
   "metadata": {},
   "outputs": [],
   "source": [
    "import os\n",
    "import sqlite3"
   ]
  },
  {
   "cell_type": "code",
   "execution_count": 2,
   "metadata": {},
   "outputs": [],
   "source": [
    "db_path = os.path.join(\"..\", \"solar.db\")\n",
    "conn = sqlite3.connect(db_path)\n",
    "cur = conn.cursor()"
   ]
  },
  {
   "cell_type": "code",
   "execution_count": 3,
   "metadata": {},
   "outputs": [],
   "source": [
    "month = {\"Jan\":1, \"Feb\":2, \"Mar\":3, \"Apr\":4, \"May\":5, \"Jun\":6, \"Jul\":7, \"Aug\":8, \"Sep\":9, \"Oct\":10, \"Nov\":11, \"Dec\":12}"
   ]
  },
  {
   "cell_type": "code",
   "execution_count": 5,
   "metadata": {},
   "outputs": [
    {
     "name": "stdout",
     "output_type": "stream",
     "text": [
      "INSERT OR REPLACE INTO rec (month, year, reading, date_recorded, r_mo, r_dy, r_yr) VALUES (12, 15, 53, '1/1/2016', 1, 1, 2016)\n",
      "INSERT OR REPLACE INTO rec (month, year, reading, date_recorded, r_mo, r_dy, r_yr) VALUES (3, 16, 7082, '4/1/2016', 4, 1, 2016)\n",
      "INSERT OR REPLACE INTO rec (month, year, reading, date_recorded, r_mo, r_dy, r_yr) VALUES (6, 16, 8244, '7/12/2016', 7, 12, 2016)\n",
      "INSERT OR REPLACE INTO rec (month, year, reading, date_recorded, r_mo, r_dy, r_yr) VALUES (9, 16, 11689, '10/4/2016', 10, 4, 2016)\n",
      "INSERT OR REPLACE INTO rec (month, year, reading, date_recorded, r_mo, r_dy, r_yr) VALUES (10, 16, 12749, '11/6/2016', 11, 6, 2016)\n",
      "INSERT OR REPLACE INTO rec (month, year, reading, date_recorded, r_mo, r_dy, r_yr) VALUES (11, 16, 13471, '12/3/2016', 12, 3, 2016)\n",
      "INSERT OR REPLACE INTO rec (month, year, reading, date_recorded, r_mo, r_dy, r_yr) VALUES (12, 16, 14267, '1/8/2017', 1, 8, 2017)\n",
      "INSERT OR REPLACE INTO rec (month, year, reading, date_recorded, r_mo, r_dy, r_yr) VALUES (1, 17, 15006, '2/5/2017', 2, 5, 2017)\n",
      "INSERT OR REPLACE INTO rec (month, year, reading, date_recorded, r_mo, r_dy, r_yr) VALUES (2, 17, 15970, '3/11/2017', 3, 11, 2017)\n",
      "INSERT OR REPLACE INTO rec (month, year, reading, date_recorded, r_mo, r_dy, r_yr) VALUES (3, 17, 16597, '3/30/2017', 3, 30, 2017)\n",
      "INSERT OR REPLACE INTO rec (month, year, reading, date_recorded, r_mo, r_dy, r_yr) VALUES (4, 17, 17671, '4/29/2017', 4, 29, 2017)\n",
      "INSERT OR REPLACE INTO rec (month, year, reading, date_recorded, r_mo, r_dy, r_yr) VALUES (5, 17, 18749, '5/30/2017', 5, 30, 2017)\n",
      "INSERT OR REPLACE INTO rec (month, year, reading, date_recorded, r_mo, r_dy, r_yr) VALUES (6, 17, 20015, '6/30/2017', 6, 30, 2017)\n",
      "INSERT OR REPLACE INTO rec (month, year, reading, date_recorded, r_mo, r_dy, r_yr) VALUES (7, 17, 21322, '7/31/2017', 7, 31, 2017)\n",
      "INSERT OR REPLACE INTO rec (month, year, reading, date_recorded, r_mo, r_dy, r_yr) VALUES (8, 17, 22714, '9/1/2017', 9, 1, 2017)\n",
      "INSERT OR REPLACE INTO rec (month, year, reading, date_recorded, r_mo, r_dy, r_yr) VALUES (9, 17, 23763, '9/30/2017', 9, 30, 2017)\n",
      "INSERT OR REPLACE INTO rec (month, year, reading, date_recorded, r_mo, r_dy, r_yr) VALUES (10, 17, 24793, '11/3/2017', 11, 3, 2017)\n",
      "INSERT OR REPLACE INTO rec (month, year, reading, date_recorded, r_mo, r_dy, r_yr) VALUES (11, 17, 25563, '12/1/2017', 12, 1, 2017)\n",
      "INSERT OR REPLACE INTO rec (month, year, reading, date_recorded, r_mo, r_dy, r_yr) VALUES (12, 17, 26208, '1/3/2018', 1, 3, 2018)\n",
      "INSERT OR REPLACE INTO rec (month, year, reading, date_recorded, r_mo, r_dy, r_yr) VALUES (1, 18, 26822, '2/1/2018', 2, 1, 2018)\n",
      "INSERT OR REPLACE INTO rec (month, year, reading, date_recorded, r_mo, r_dy, r_yr) VALUES (2, 18, 27544, '3/1/2018', 3, 1, 2018)\n",
      "INSERT OR REPLACE INTO rec (month, year, reading, date_recorded, r_mo, r_dy, r_yr) VALUES (3, 18, 28477, '4/1/2018', 4, 1, 2018)\n",
      "INSERT OR REPLACE INTO rec (month, year, reading, date_recorded, r_mo, r_dy, r_yr) VALUES (4, 18, 29600, '5/1/2018', 5, 1, 2018)\n",
      "INSERT OR REPLACE INTO rec (month, year, reading, date_recorded, r_mo, r_dy, r_yr) VALUES (5, 18, 30904, '5/31/2018', 5, 31, 2018)\n",
      "INSERT OR REPLACE INTO rec (month, year, reading, date_recorded, r_mo, r_dy, r_yr) VALUES (6, 18, 32169, '7/1/2018', 7, 1, 2018)\n",
      "INSERT OR REPLACE INTO rec (month, year, reading, date_recorded, r_mo, r_dy, r_yr) VALUES (7, 18, 33647, '8/1/2018', 8, 1, 2018)\n",
      "INSERT OR REPLACE INTO rec (month, year, reading, date_recorded, r_mo, r_dy, r_yr) VALUES (8, 18, 34980, '9/3/2018', 9, 3, 2018)\n",
      "INSERT OR REPLACE INTO rec (month, year, reading, date_recorded, r_mo, r_dy, r_yr) VALUES (9, 18, 35761, '9/30/2018', 9, 30, 2018)\n",
      "INSERT OR REPLACE INTO rec (month, year, reading, date_recorded, r_mo, r_dy, r_yr) VALUES (10, 18, 36514, '10/30/2018', 10, 30, 2018)\n",
      "INSERT OR REPLACE INTO rec (month, year, reading, date_recorded, r_mo, r_dy, r_yr) VALUES (11, 18, 37148, '12/1/2018', 12, 1, 2018)\n",
      "INSERT OR REPLACE INTO rec (month, year, reading, date_recorded, r_mo, r_dy, r_yr) VALUES (12, 18, 37941, '12/30/2018', 12, 30, 2018)\n",
      "INSERT OR REPLACE INTO rec (month, year, reading, date_recorded, r_mo, r_dy, r_yr) VALUES (1, 19, 38799, '2/2/2019', 2, 2, 2019)\n",
      "INSERT OR REPLACE INTO rec (month, year, reading, date_recorded, r_mo, r_dy, r_yr) VALUES (2, 19, 39649, '3/1/2019', 3, 1, 2019)\n",
      "INSERT OR REPLACE INTO rec (month, year, reading, date_recorded, r_mo, r_dy, r_yr) VALUES (3, 19, 40814, '4/12/2019', 4, 12, 2019)\n",
      "INSERT OR REPLACE INTO rec (month, year, reading, date_recorded, r_mo, r_dy, r_yr) VALUES (4, 19, 41409, '5/1/2019', 5, 1, 2019)\n",
      "INSERT OR REPLACE INTO rec (month, year, reading, date_recorded, r_mo, r_dy, r_yr) VALUES (5, 19, 42534, '6/1/2019', 6, 1, 2019)\n",
      "INSERT OR REPLACE INTO rec (month, year, reading, date_recorded, r_mo, r_dy, r_yr) VALUES (6, 19, 43826, '7/1/2019', 7, 1, 2019)\n",
      "INSERT OR REPLACE INTO rec (month, year, reading, date_recorded, r_mo, r_dy, r_yr) VALUES (7, 19, 45264, '8/1/2019', 8, 1, 2019)\n",
      "INSERT OR REPLACE INTO rec (month, year, reading, date_recorded, r_mo, r_dy, r_yr) VALUES (8, 19, 46713, '9/2/2019', 9, 2, 2019)\n",
      "INSERT OR REPLACE INTO rec (month, year, reading, date_recorded, r_mo, r_dy, r_yr) VALUES (9, 19, 47960, '10/3/2019', 10, 3, 2019)\n",
      "INSERT OR REPLACE INTO rec (month, year, reading, date_recorded, r_mo, r_dy, r_yr) VALUES (10, 19, 48737, '11/1/2019', 11, 1, 2019)\n",
      "INSERT OR REPLACE INTO rec (month, year, reading, date_recorded, r_mo, r_dy, r_yr) VALUES (11, 19, 49509, '12/1/2019', 12, 1, 2019)\n"
     ]
    }
   ],
   "source": [
    "f = open(\"rec.csv\")\n",
    "line = f.readline()  # header\n",
    "line = f.readline()  # first row\n",
    "while not line == '':\n",
    "        #print(line.split(\",\"))\n",
    "        v1 = str(month[line.split(',')[0][0:3]])\n",
    "        v2 = str(line.split(',')[0][-2:])\n",
    "        v3 = str(line.split(',')[1])\n",
    "        v4 = line.split(',')[2][:-1]\n",
    "        v5 = str(v4.split('/')[0])\n",
    "        v6 = str(v4.split('/')[1])\n",
    "        v7 = str(v4.split('/')[2])\n",
    "        q = \"INSERT OR REPLACE INTO rec (month, year, reading, date_recorded, r_mo, r_dy, r_yr) VALUES (\"+v1+\", \"+v2+\", \"+v3+\", '\"+v4+\"', \"+v5+\", \"+v6+\", \"+v7+\")\"\n",
    "        print(q)\n",
    "        cur.execute(q)\n",
    "        conn.commit()\n",
    "        line = f.readline()\n",
    "f.close()"
   ]
  },
  {
   "cell_type": "code",
   "execution_count": 6,
   "metadata": {},
   "outputs": [],
   "source": [
    "conn.close()"
   ]
  }
 ],
 "metadata": {
  "kernelspec": {
   "display_name": "Python 3",
   "language": "python",
   "name": "python3"
  },
  "language_info": {
   "codemirror_mode": {
    "name": "ipython",
    "version": 3
   },
   "file_extension": ".py",
   "mimetype": "text/x-python",
   "name": "python",
   "nbconvert_exporter": "python",
   "pygments_lexer": "ipython3",
   "version": "3.7.3"
  }
 },
 "nbformat": 4,
 "nbformat_minor": 2
}
