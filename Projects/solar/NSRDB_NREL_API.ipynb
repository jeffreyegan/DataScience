{
 "cells": [
  {
   "cell_type": "markdown",
   "metadata": {},
   "source": [
    "# NSRDB NREL API for Solar Radiation and Weather Data\n",
    "\n",
    "This notebook demonstrates basic usage of the National Renewable Energy Laboratory (NREL) National Solar Radiation Database (NSRDB) data. The data is provided from Amazon Web Services using the HDF Group's Highly Scalable Data Service (HSDS).\n",
    "\n",
    "The NSRDB is a serially complete collection of hourly and half-hourly values of the three most common measurements of solar radiation—global horizontal, direct normal, and diffuse horizontal irradiance—and meteorological data. The current NSRDB is modeled using multi-channel measurements from geostationary satellites. The older versions of the NSRDB were modeled using cloud and weather information primarily collected at airports. Sufficient number of locations and temporal and spatial scales were used to represent regional solar radiation climates accurately.\n",
    "\n",
    "Using the NSRDB data, it is possible to estimate the amount of solar energy that has been historically available at a given time and location anywhere in the United States; the NSRDB is also expanding to encompass a growing list of international locations. Using the long-term NSRDB data in various models, it is possible to predict the potential future availability of solar energy in a location based on past conditions.\n",
    "\n",
    "Typical Meteorological Year (TMY) data can be derived from the NSRDB time-series datasets. Visit the TMY page for detailed information about this data type and its uses.\n",
    "\n",
    "\n",
    "## Request Rate and Weight Limits\n",
    "\n",
    "The API is restricted in both the number of requests a single user can make in a 24 hour period, as well as in the maximum size of a single request. The API rate limits are set at:\n",
    "\n",
    "    300 requests per day\n",
    "    1 request every 2 seconds\n",
    "\n",
    "For downloading directly via CSV there are separate rate limits. This is due to the fact that it is only possible to download a single site for a single year via the CSV endpoint, therefor these requests are always quite small by comparison:\n",
    "\n",
    "    2000 requests per day\n",
    "    1 request per second\n",
    "\n",
    "The size limit per each single request is determined by the number of total attributes in each request. The maximum weight of each request is 175000000. The calculation for determining the weight of each request is:\n",
    "\n",
    "    site-count*attribute-count*year-count*data-intervals-per-year\n",
    "\n",
    "    site-count is derived from the WKT value submitted and can be retrieved using the site_count API endpoint.\n",
    "    attribute-count is equal to the number of attributes requested\n",
    "    year-count is equal to the number of years requested\n",
    "    data-intervals-per-year is ((60/interval)*24*365) where interval is the interval requested\n",
    "\n",
    "To maximize a single request simply minimize the variables wherever possible. For example by requesting half as many attributes one can request twice as many years (or sites) worth of data.\n",
    "\n",
    "\n",
    "\n",
    "\n",
    "Sources:\n",
    "    - https://nsrdb.nrel.gov/about/what-is-the-nsrdb.html\n",
    "    - https://www.nrel.gov/docs/fy19osti/74137.pdf\n",
    "    - https://nsrdb.nrel.gov/about/u-s-data.html\n",
    "    - https://www.homerenergy.com/products/pro/docs/latest/global_horizontal_irradiance_ghi.html\n",
    "    - https://www.ncdc.noaa.gov/data-access/land-based-station-data/land-based-datasets/solar-radiation \n",
    "    - https://firstgreenconsulting.wordpress.com/2012/04/26/differentiate-between-the-dni-dhi-and-ghi/\n",
    "    "
   ]
  },
  {
   "cell_type": "code",
   "execution_count": 1,
   "metadata": {},
   "outputs": [],
   "source": [
    "import pandas as pd\n",
    "import sqlite3\n",
    "import os"
   ]
  },
  {
   "cell_type": "code",
   "execution_count": 2,
   "metadata": {},
   "outputs": [],
   "source": [
    "f = open(\"auth.txt\")\n",
    "f.readline()  # enphase API info - not relevant to this notebook\n",
    "f.readline()  # enphase API info - not relevant to this notebook\n",
    "f.readline()  # enphase API info - not relevant to this notebook\n",
    "api_key = f.readline()[:-1]\n",
    "wkt_point = f.readline()[:-1]\n",
    "full_name = f.readline()[:-1]\n",
    "email = f.readline()[:-1]\n",
    "affiliation = f.readline()[:-1]\n",
    "reason = f.readline()[:-1]\n",
    "f.close()"
   ]
  },
  {
   "cell_type": "markdown",
   "metadata": {},
   "source": [
    "## Example API Query returned to Pandas"
   ]
  },
  {
   "cell_type": "code",
   "execution_count": 3,
   "metadata": {},
   "outputs": [],
   "source": [
    "year = 2010\n",
    "interval = 60  # must be 60 or 30\n",
    "utc_flag = 'false'\n",
    "lead_day_flag = 'true'\n",
    "\n",
    "url = \"https://developer.nrel.gov/api/solar/nsrdb_psm3_download.csv?wkt=POINT(\"+wkt_point+\")&names=\"+str(year)+\"&leap_day=\"+lead_day_flag+\"&interval=\"+str(interval)+\"&utc=\"+utc_flag+\"&full_name=\"+full_name+\"&email=\"+email+\"&affiliation=\"+affiliation+\"&mailing_list=false&reason=\"+reason+\"&api_key=\"+api_key+\"&attributes=ghi,dhi,dni,wind_speed,air_temperature,solar_zenith_angle,cloud_type\""
   ]
  },
  {
   "cell_type": "code",
   "execution_count": 4,
   "metadata": {},
   "outputs": [
    {
     "name": "stdout",
     "output_type": "stream",
     "text": [
      "This API query is expected to use 0.03504% of the alloted limit.\n"
     ]
    }
   ],
   "source": [
    "site_count = 1\n",
    "attribute_count = 7\n",
    "year_count = 1\n",
    "data_intervals_per_year = 60/interval*24*365.0\n",
    "request_weight = site_count*attribute_count*year_count*data_intervals_per_year\n",
    "max_allowed_weight = 175000000.0\n",
    "print(\"This API query is expected to use \"+str(100.0*request_weight/max_allowed_weight)+\"% of the alloted limit.\")"
   ]
  },
  {
   "cell_type": "code",
   "execution_count": 5,
   "metadata": {},
   "outputs": [
    {
     "data": {
      "text/html": [
       "<div>\n",
       "<style scoped>\n",
       "    .dataframe tbody tr th:only-of-type {\n",
       "        vertical-align: middle;\n",
       "    }\n",
       "\n",
       "    .dataframe tbody tr th {\n",
       "        vertical-align: top;\n",
       "    }\n",
       "\n",
       "    .dataframe thead th {\n",
       "        text-align: right;\n",
       "    }\n",
       "</style>\n",
       "<table border=\"1\" class=\"dataframe\">\n",
       "  <thead>\n",
       "    <tr style=\"text-align: right;\">\n",
       "      <th></th>\n",
       "      <th>Year</th>\n",
       "      <th>Month</th>\n",
       "      <th>Day</th>\n",
       "      <th>Hour</th>\n",
       "      <th>Minute</th>\n",
       "      <th>GHI</th>\n",
       "      <th>DHI</th>\n",
       "      <th>DNI</th>\n",
       "      <th>Wind Speed</th>\n",
       "      <th>Temperature</th>\n",
       "      <th>Solar Zenith Angle</th>\n",
       "      <th>Cloud Type</th>\n",
       "    </tr>\n",
       "  </thead>\n",
       "  <tbody>\n",
       "    <tr>\n",
       "      <th>0</th>\n",
       "      <td>2010</td>\n",
       "      <td>1</td>\n",
       "      <td>1</td>\n",
       "      <td>0</td>\n",
       "      <td>30</td>\n",
       "      <td>0</td>\n",
       "      <td>0</td>\n",
       "      <td>0</td>\n",
       "      <td>0.2</td>\n",
       "      <td>-5</td>\n",
       "      <td>158.46</td>\n",
       "      <td>6</td>\n",
       "    </tr>\n",
       "    <tr>\n",
       "      <th>1</th>\n",
       "      <td>2010</td>\n",
       "      <td>1</td>\n",
       "      <td>1</td>\n",
       "      <td>1</td>\n",
       "      <td>30</td>\n",
       "      <td>0</td>\n",
       "      <td>0</td>\n",
       "      <td>0</td>\n",
       "      <td>0.2</td>\n",
       "      <td>-5</td>\n",
       "      <td>151.19</td>\n",
       "      <td>7</td>\n",
       "    </tr>\n",
       "    <tr>\n",
       "      <th>2</th>\n",
       "      <td>2010</td>\n",
       "      <td>1</td>\n",
       "      <td>1</td>\n",
       "      <td>2</td>\n",
       "      <td>30</td>\n",
       "      <td>0</td>\n",
       "      <td>0</td>\n",
       "      <td>0</td>\n",
       "      <td>0.2</td>\n",
       "      <td>-5</td>\n",
       "      <td>141.32</td>\n",
       "      <td>8</td>\n",
       "    </tr>\n",
       "    <tr>\n",
       "      <th>3</th>\n",
       "      <td>2010</td>\n",
       "      <td>1</td>\n",
       "      <td>1</td>\n",
       "      <td>3</td>\n",
       "      <td>30</td>\n",
       "      <td>0</td>\n",
       "      <td>0</td>\n",
       "      <td>0</td>\n",
       "      <td>0.2</td>\n",
       "      <td>-5</td>\n",
       "      <td>130.54</td>\n",
       "      <td>7</td>\n",
       "    </tr>\n",
       "    <tr>\n",
       "      <th>4</th>\n",
       "      <td>2010</td>\n",
       "      <td>1</td>\n",
       "      <td>1</td>\n",
       "      <td>4</td>\n",
       "      <td>30</td>\n",
       "      <td>0</td>\n",
       "      <td>0</td>\n",
       "      <td>0</td>\n",
       "      <td>0.2</td>\n",
       "      <td>-5</td>\n",
       "      <td>119.55</td>\n",
       "      <td>7</td>\n",
       "    </tr>\n",
       "  </tbody>\n",
       "</table>\n",
       "</div>"
      ],
      "text/plain": [
       "   Year  Month  Day  Hour  Minute  GHI  DHI  DNI  Wind Speed  Temperature  \\\n",
       "0  2010      1    1     0      30    0    0    0         0.2           -5   \n",
       "1  2010      1    1     1      30    0    0    0         0.2           -5   \n",
       "2  2010      1    1     2      30    0    0    0         0.2           -5   \n",
       "3  2010      1    1     3      30    0    0    0         0.2           -5   \n",
       "4  2010      1    1     4      30    0    0    0         0.2           -5   \n",
       "\n",
       "   Solar Zenith Angle  Cloud Type  \n",
       "0              158.46           6  \n",
       "1              151.19           7  \n",
       "2              141.32           8  \n",
       "3              130.54           7  \n",
       "4              119.55           7  "
      ]
     },
     "execution_count": 5,
     "metadata": {},
     "output_type": "execute_result"
    }
   ],
   "source": [
    "data = pd.read_csv(url, skiprows=2)  # two header rows\n",
    "data.head()"
   ]
  },
  {
   "cell_type": "markdown",
   "metadata": {},
   "source": [
    "## Productization for General Query and Database Writes"
   ]
  },
  {
   "cell_type": "code",
   "execution_count": 6,
   "metadata": {},
   "outputs": [],
   "source": [
    "f = open(\"auth.txt\")\n",
    "f.readline()  # enphase API info - not relevant to this notebook\n",
    "f.readline()  # enphase API info - not relevant to this notebook\n",
    "f.readline()  # enphase API info - not relevant to this notebook\n",
    "api_key = f.readline()[:-1]\n",
    "wkt_point = f.readline()[:-1]\n",
    "full_name = f.readline()[:-1]\n",
    "email = f.readline()[:-1]\n",
    "affiliation = f.readline()[:-1]\n",
    "reason = f.readline()[:-1]\n",
    "f.close()\n",
    "\n",
    "interval = 30  # must be 30 or 60\n",
    "utc_flag = 'false'\n",
    "lead_day_flag = 'true'\n",
    "\n",
    "db_path = os.path.join(\"solar.db\")"
   ]
  },
  {
   "cell_type": "code",
   "execution_count": 7,
   "metadata": {},
   "outputs": [],
   "source": [
    "def query_api(year, interval):\n",
    "    url = \"https://developer.nrel.gov/api/solar/nsrdb_psm3_download.csv?wkt=POINT(\"+wkt_point+\")&names=\"+str(year)+\"&leap_day=\"+lead_day_flag+\"&interval=\"+str(interval)+\"&utc=\"+utc_flag+\"&full_name=\"+full_name+\"&email=\"+email+\"&affiliation=\"+affiliation+\"&mailing_list=false&reason=\"+reason+\"&api_key=\"+api_key+\"&attributes=ghi,dhi,dni,wind_speed,air_temperature,solar_zenith_angle,cloud_type\"\n",
    "    site_count = 1\n",
    "    attribute_count = 7\n",
    "    year_count = 1\n",
    "    data_intervals_per_year = 60/interval*24*365.0\n",
    "    request_weight = site_count*attribute_count*year_count*data_intervals_per_year\n",
    "    max_allowed_weight = 175000000.0\n",
    "    print(\"This API query is expected to use \"+str(100.0*request_weight/max_allowed_weight)+\"% of the alloted limit.\")\n",
    "    \n",
    "    df = pd.read_csv(url, skiprows=2)\n",
    "    print(\"Data successfully queried from API!\")\n",
    "    return df"
   ]
  },
  {
   "cell_type": "code",
   "execution_count": 8,
   "metadata": {},
   "outputs": [],
   "source": [
    "def pd_to_sql(df, db_path):\n",
    "    conn = sqlite3.connect(db_path)\n",
    "    cur = conn.cursor()\n",
    "    for x in range(0,len(df)):\n",
    "        cols = \"year, month, day, hour, minute, GHI_w_per_m2, DHI_w_per_m2, DNI_w_per_m2, wind_speed_m_per_s, temp_c, solar_zenith_angle_deg, cloud_type\"\n",
    "        vals = str(df[\"Year\"][x])+\", \"+str(df[\"Month\"][x])+\", \"+str(df[\"Day\"][x])+\", \"+str(df[\"Hour\"][x])+\", \"+str(df[\"Minute\"][x])+\", \"+str(df[\"GHI\"][x])+\", \"+str(df[\"DHI\"][x])+\", \"+str(df[\"DNI\"][x])+\", \"+str(df[\"Wind Speed\"][x])+\", \"+str(df[\"Temperature\"][x])+\", \"+str(df[\"Solar Zenith Angle\"][x])+\", \"+str(df[\"Cloud Type\"][x])\n",
    "        q = \"INSERT OR REPLACE INTO weather (\"+cols+\") VALUES (\"+vals+\")\"\n",
    "        cur.execute(q)\n",
    "        conn.commit()\n",
    "    conn.close()\n",
    "    print(\"Data successfully exported from pandas to sqlite database!\")"
   ]
  },
  {
   "cell_type": "code",
   "execution_count": 9,
   "metadata": {},
   "outputs": [
    {
     "name": "stdout",
     "output_type": "stream",
     "text": [
      "Querying data for 2013...\n",
      "This API query is expected to use 0.07008% of the alloted limit.\n",
      "Data successfully queried from API!\n",
      "Data successfully exported from pandas to sqlite database!\n",
      "Querying data for 2014...\n",
      "This API query is expected to use 0.07008% of the alloted limit.\n",
      "Data successfully queried from API!\n",
      "Data successfully exported from pandas to sqlite database!\n",
      "Querying data for 2015...\n",
      "This API query is expected to use 0.07008% of the alloted limit.\n",
      "Data successfully queried from API!\n",
      "Data successfully exported from pandas to sqlite database!\n",
      "Querying data for 2016...\n",
      "This API query is expected to use 0.07008% of the alloted limit.\n",
      "Data successfully queried from API!\n",
      "Data successfully exported from pandas to sqlite database!\n",
      "Querying data for 2017...\n",
      "This API query is expected to use 0.07008% of the alloted limit.\n",
      "Data successfully queried from API!\n",
      "Data successfully exported from pandas to sqlite database!\n",
      "Querying data for 2018...\n",
      "This API query is expected to use 0.07008% of the alloted limit.\n",
      "Data successfully queried from API!\n",
      "Data successfully exported from pandas to sqlite database!\n"
     ]
    }
   ],
   "source": [
    "for year in range(2013,2019):\n",
    "    print(\"Querying data for \"+str(year)+\"...\")\n",
    "    data = query_api(year, interval)\n",
    "    pd_to_sql(data, db_path)"
   ]
  },
  {
   "cell_type": "markdown",
   "metadata": {},
   "source": [
    "NOTE: As of 20200124 - NSRDB Does not have data available for 2019+"
   ]
  },
  {
   "cell_type": "markdown",
   "metadata": {},
   "source": [
    "\"Parameter 'names' must be a comma delimited list including [1998, 1999, 2000, 2001, 2002, 2003, 2004, 2005, 2006, 2007, 2008, 2009, 2010, 2011, 2012, 2013, 2014, 2015, 2016, 2017, 2018, tmy, tmy-2016, tmy-2017, tdy-2017, tgy-2017, tmy-2018, tdy-2018, tgy-2018]\""
   ]
  }
 ],
 "metadata": {
  "kernelspec": {
   "display_name": "Python 3",
   "language": "python",
   "name": "python3"
  },
  "language_info": {
   "codemirror_mode": {
    "name": "ipython",
    "version": 3
   },
   "file_extension": ".py",
   "mimetype": "text/x-python",
   "name": "python",
   "nbconvert_exporter": "python",
   "pygments_lexer": "ipython3",
   "version": "3.7.3"
  }
 },
 "nbformat": 4,
 "nbformat_minor": 2
}
